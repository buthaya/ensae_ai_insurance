{
 "cells": [
  {
   "cell_type": "markdown",
   "metadata": {},
   "source": [
    "**Reminder from 0_Python_102**\n",
    "\n",
    "Python is an **object-oriented programming language**. This means that instead of writing code with a focus on what the computer needs to do, we focus our attention on what data we are working with and how it should interact. An object is an important concept in programming. They allow modular implementation and make maintenance and development easier than without.\n",
    "\n",
    "What is an object? As the name implies, the initial idea of object programming is to represent physical objects. Every physical object can be described by its properties (attributes) and can interact with the outside (methods).\n",
    "\n",
    "Thus, a programming object can be pictured as an atomic unit.\n",
    "\n",
    "* Its name (type).\n",
    "* Its attributes (properties).\n",
    "* Its methods (functions you can apply to it).\n",
    "\n",
    "So far, we manipulated objects without really being aware of it. For instance, when we defined a list:\n",
    "\n",
    "```python\n",
    "mylist = [1, 2, 3]\n",
    "```\n",
    "\n",
    "* `mylist` is the name of the object.\n",
    "* Attributes are the values of items inside the list.\n",
    "* Methods are all the functions you can call on a list. For example:\n",
    "\n",
    "```python\n",
    "mylist.append(4)\n",
    "```\n",
    "\n",
    "We will then be able to define our own objects with Python. Many libraries are object-oriented. Thus, controlling objects in Python is quite important. Let's look at the following example. Imagine we want to implement an geometric shape as an object.\n",
    "\n",
    "A shape can be described by its type and different properties. For example:\n",
    "\n",
    "* Type (e.g., Circle, Rectangle, Square)\n",
    "* Dimensions specific to each shape (e.g., radius for Circle, width and height for Rectangle and Square)\n",
    "\n",
    "A shape also has some methods like calculating area and perimeter. Additionally, each shape has a special method to showcase its unique characteristic. For example:\n",
    "\n",
    "* For Circles, it's the radius squared\n",
    "* For Rectangles, the product of width and height\n",
    "* For Squares, the square of the side length\n",
    "\n",
    "In Python, the syntax to define an object is:\n",
    "\n",
    "```python\n",
    "class object_name():\n",
    "    def __init__(self, attribute1, attribute2): # constructor: present in every object\n",
    "        self.v1 = attribute1\n",
    "        self.v2 = attribute2\n",
    "\n",
    "    def methods1(self, x1, x2):\n",
    "        result = self.v1 + x1 * x2\n",
    "        return result\n",
    "```\n",
    "\n",
    "Once defined, below is an example of how to declare a new object and use it.\n",
    "\n",
    "```python\n",
    "# construction\n",
    "myobj = object_name(attribute1, attribute2) # attributes required in the __init__ function. Note that self is not required since it is the object itself\n",
    "\n",
    "# call a method\n",
    "myobj.methods1(x1, x2) # call of methods1 associated with the object\n",
    "\n",
    "# access to attributes\n",
    "myobj.v1\n",
    "myobj.v2\n",
    "\n",
    "# change attribute v1\n",
    "myobj.v1 = # new value\n",
    "```"
   ]
  },
  {
   "cell_type": "markdown",
   "metadata": {},
   "source": [
    "1. Every object definition starts by key word \"class\" followed by the object name.\n",
    "2. Every object has a constructor called `__init__` method (convention).\n",
    "3. Within the class, `self` is used to call the object itself\n",
    "4. Arguments (except self) of `__init__` method are optional\n",
    "5. All defined methods can be called by the object only. That means you cannot call the function you defined in the object without using the object. That avoids conflict between function names since if we use correctly objects we always know from which initial object the function comes."
   ]
  },
  {
   "cell_type": "markdown",
   "metadata": {},
   "source": [
    "## Exercice 1 : First class implementation\n",
    "\n",
    "Create a Python class named Circle to represent a circle. The class should have:\n",
    "\n",
    "* A constructor that takes the radius as a parameter and initializes it.\n",
    "* A method named calculate_area that returns the area of the circle.\n",
    "* A method named calculate_circumference that returns the circumference of the circle.\n"
   ]
  },
  {
   "cell_type": "code",
   "execution_count": 6,
   "metadata": {},
   "outputs": [],
   "source": [
    "#beginning together\n",
    "class Circle:\n",
    "    pass"
   ]
  },
  {
   "cell_type": "markdown",
   "metadata": {},
   "source": [
    "## Exercice 2 : Inheritance"
   ]
  },
  {
   "cell_type": "markdown",
   "metadata": {},
   "source": [
    "**Inheritance** allows a new class (Square) to inherit attributes and methods from an existing class (Rectangle). This promotes code reuse and establishes a relationship between the two classes.\n",
    "\n",
    "Create two classes, ```Rectangle``` and ```Square```, where ```Square``` **inherits** from ```Rectangle```. \n",
    "\n",
    "Each class should have:\n",
    "\n",
    "* A constructor that takes the width and height as parameters and initializes them.\n",
    "* A method named calculate_area that returns the area of the shape.\n",
    "* A method named calculate_perimeter that returns the perimeter of the shape.\n"
   ]
  },
  {
   "cell_type": "code",
   "execution_count": 7,
   "metadata": {},
   "outputs": [],
   "source": [
    "class Rectangle:\n",
    "    pass\n",
    "\n",
    "class Square:\n",
    "    pass"
   ]
  }
 ],
 "metadata": {
  "kernelspec": {
   "display_name": ".env",
   "language": "python",
   "name": ".env"
  },
  "language_info": {
   "codemirror_mode": {
    "name": "ipython",
    "version": 3
   },
   "file_extension": ".py",
   "mimetype": "text/x-python",
   "name": "python",
   "nbconvert_exporter": "python",
   "pygments_lexer": "ipython3",
   "version": "3.8.3"
  }
 },
 "nbformat": 4,
 "nbformat_minor": 4
}
