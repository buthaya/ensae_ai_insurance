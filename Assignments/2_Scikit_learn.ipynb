{
 "cells": [
  {
   "cell_type": "markdown",
   "metadata": {},
   "source": [
    "Source: Xavier Dupré\n",
    "\n",
    "# Rappels sur scikit-learn et le machine learning\n",
    "\n",
    "Quelques exercices simples sur *scikit-learn*. Le notebook est long pour ceux qui débutent en machine learning et sans doute sans suspens pour ceux qui en ont déjà fait."
   ]
  },
  {
   "cell_type": "code",
   "execution_count": null,
   "metadata": {
    "ExecuteTime": {
     "end_time": "2018-09-18T09:51:49.680298Z",
     "start_time": "2018-09-18T09:51:49.672286Z"
    }
   },
   "outputs": [],
   "source": [
    "%matplotlib inline"
   ]
  },
  {
   "cell_type": "markdown",
   "metadata": {},
   "source": [
    "## 1. Données synthétiques\n",
    "<br>\n",
    "<span style=\"color:blue\">\n",
    "    \n",
    "**1. Simuler un jeu de données aléatoires de taille $(n, 2)$ avec ```numpy.random```.**\n",
    "\n",
    "**2. Stocker l'échantillon dans une variable $X$.**\n",
    "\n",
    "</span>\n",
    "    \n",
    "\n",
    "Par la suite, on pourra considérer que $X = (X_1, X_2)$\n",
    "\n"
   ]
  },
  {
   "cell_type": "code",
   "execution_count": null,
   "metadata": {},
   "outputs": [],
   "source": [
    "import numpy as np\n",
    "\n",
    "n = 1000\n",
    "# X = ...\n",
    "# print(X[:5])"
   ]
  },
  {
   "cell_type": "markdown",
   "metadata": {},
   "source": [
    "A partir de $X$, calculer\n",
    "$$ Y = 3 X_1-2X_2^2 + \\epsilon$$ avec $\\epsilon \\in [0,1]$ "
   ]
  },
  {
   "cell_type": "code",
   "execution_count": null,
   "metadata": {},
   "outputs": [],
   "source": [
    "# y = ...\n",
    "# print(y[:5])"
   ]
  },
  {
   "cell_type": "code",
   "execution_count": null,
   "metadata": {},
   "outputs": [],
   "source": []
  },
  {
   "cell_type": "markdown",
   "metadata": {},
   "source": [
    "## 2. Train, validation, test"
   ]
  },
  {
   "cell_type": "markdown",
   "metadata": {},
   "source": [
    "Lorsque l'on entraine un modèle, il est d'usage de diviser le jeu de données d'entrainement en 2 parties:\n",
    "- Une partie d'entrainement (*train set*), pour calibrer le modèle\n",
    "- Une partie de validation (*validation set*), pour évaluer le modèle durant l'entrainement\n",
    "\n",
    "Pour tester la capacité de généralisation du modèle, une fois l'entrainement sur le jeu d'entrainement terminé, on évalue le modèle sur:\n",
    "- Un jeu d'évaluation (*test set*)"
   ]
  },
  {
   "attachments": {
    "image.png": {
     "image/png": "[encoded data removed]"
    }
   },
   "cell_type": "markdown",
   "metadata": {},
   "source": [
    "![image.png](attachment:image.png)\n",
    "https://stanford.edu/~shervine/teaching/cs-229/cheatsheet-machine-learning-tips-and-tricks"
   ]
  },
  {
   "cell_type": "markdown",
   "metadata": {},
   "source": [
    "<span style=\"color:blue\">\n",
    "    \n",
    "**Réaliser cette répartition en jeu d'entrainement dans des variables $X_{train}, Y_{train}$ (```X_train, Y_train```)  et en jeu de validation $X_{test}, Y_{test}$ (```X_test, Y_test```) avec une répartition 80/20 (train/test).**\n",
    "</span>\n"
   ]
  },
  {
   "cell_type": "code",
   "execution_count": null,
   "metadata": {},
   "outputs": [],
   "source": [
    "# Avec sklearn\n",
    "from sklearn.model_selection import train_test_split\n",
    "\n",
    "#...\n",
    "\n",
    "# print(X_train.shape, X_test.shape, y_train.shape,y_test.shape)"
   ]
  },
  {
   "cell_type": "code",
   "execution_count": null,
   "metadata": {},
   "outputs": [],
   "source": [
    "# Sans sklearn\n",
    "\n",
    "#...\n",
    "\n",
    "# print(X_train.shape, X_test.shape, y_train.shape,y_test.shape)"
   ]
  },
  {
   "cell_type": "markdown",
   "metadata": {},
   "source": [
    "## 3. Régression Linéaire\n",
    "<br>\n",
    "\n",
    "<span style=\"color:blue\">\n",
    "\n",
    "**Sur les données générées précédemment, calibrer une régression linéaire avec sklearn et calculer le coefficient $R^2$.**\n",
    "\n",
    "</span>\n",
    "\n",
    "$$\\beta = (X^tX)^{-1} X^t y$$  \n",
    "    \n"
   ]
  },
  {
   "cell_type": "markdown",
   "metadata": {},
   "source": [
    "- Calibrer une régression linéaire"
   ]
  },
  {
   "cell_type": "code",
   "execution_count": null,
   "metadata": {},
   "outputs": [],
   "source": [
    "from sklearn.linear_model import LinearRegression\n",
    "# LR = ... "
   ]
  },
  {
   "cell_type": "markdown",
   "metadata": {},
   "source": [
    "* Afficher les coefficients du modèle"
   ]
  },
  {
   "cell_type": "code",
   "execution_count": null,
   "metadata": {},
   "outputs": [],
   "source": [
    "# print(..., ...)"
   ]
  },
  {
   "cell_type": "markdown",
   "metadata": {},
   "source": [
    "* Calculer le $R^2$"
   ]
  },
  {
   "cell_type": "code",
   "execution_count": null,
   "metadata": {},
   "outputs": [],
   "source": [
    "from sklearn.metrics import r2_score\n",
    "# ..."
   ]
  },
  {
   "cell_type": "markdown",
   "metadata": {},
   "source": [
    "\n",
    "<span style=\"color:blue\">\n",
    "\n",
    "**Que pouvez-vous dire sur le choix du modèle (**Régression Linéaire**) au regard de la complexité des données ($Y = 3 X_1 - 2 X_2^2 + \\epsilon$) ?**\n",
    "\n",
    "</span>"
   ]
  },
  {
   "cell_type": "markdown",
   "metadata": {},
   "source": [
    "## 4. Polynomial Features\n",
    "\n",
    "<br>\n",
    "\n",
    "→*Le modèle linéaire ne permet pas de capturer les effets non-linéaires ($X_2^2$) présents dans les variables explicatives.\n",
    "Il convient alors d'effectuer une transformation $$Z = X_2^2$$ et de modéliser $$Y = 3 X_1 - 2 Z + \\epsilon$$*\n",
    "\n",
    "*Cette variable réponse est linéaire et peut être modélisée par une Régression Linéaire.*\n",
    "\n",
    "*La fonction [```PolynomialFeatures```](http://scikit-learn.org/stable/modules/generated/sklearn.preprocessing.PolynomialFeatures.html) permet d'effectuer cette transformation $Z = X_2^2$.*\n",
    "\n",
    "<br>\n",
    "\n",
    "<span style=\"color:blue\">\n",
    "\n",
    "**Utiliser ```PolynomialFeatures``` pour effectuer cette transformation.**\n",
    "    \n",
    "</span>\n"
   ]
  },
  {
   "cell_type": "code",
   "execution_count": null,
   "metadata": {},
   "outputs": [],
   "source": [
    "from sklearn.preprocessing import PolynomialFeatures\n",
    "\n",
    "# ..."
   ]
  },
  {
   "cell_type": "markdown",
   "metadata": {},
   "source": [
    "<span style=\"color:blue\">\n",
    "\n",
    "**Calibrer une régression linéaire sur les nouvelles données.**\n",
    "    \n",
    "</span>\n"
   ]
  },
  {
   "cell_type": "code",
   "execution_count": null,
   "metadata": {},
   "outputs": [],
   "source": [
    "# LR2 = ...\n",
    "# ..."
   ]
  },
  {
   "cell_type": "markdown",
   "metadata": {},
   "source": [
    "<span style=\"color:blue\">\n",
    "\n",
    "**Calculer le $R^2$ et le comparer à celui du précédent modèle.**\n",
    "    \n",
    "</span>\n"
   ]
  },
  {
   "cell_type": "code",
   "execution_count": null,
   "metadata": {},
   "outputs": [],
   "source": [
    "# ..."
   ]
  },
  {
   "cell_type": "markdown",
   "metadata": {},
   "source": [
    "## 5. Forêt Aléatoire"
   ]
  },
  {
   "cell_type": "markdown",
   "metadata": {},
   "source": [
    "<span style=\"color:blue\">\n",
    "\n",
    "**Calibrer une forêt aléatoire sur les données générées précédemment.**\n",
    "    \n",
    "</span>\n"
   ]
  },
  {
   "cell_type": "code",
   "execution_count": null,
   "metadata": {},
   "outputs": [],
   "source": [
    "from sklearn.ensemble import RandomForestRegressor\n",
    "# rf =  ..."
   ]
  },
  {
   "cell_type": "markdown",
   "metadata": {},
   "source": [
    "<span style=\"color:blue\">\n",
    "\n",
    "**Donner le coefficient $R^2$ du modèle.**\n",
    "    \n",
    "</span>\n"
   ]
  },
  {
   "cell_type": "code",
   "execution_count": null,
   "metadata": {},
   "outputs": [],
   "source": [
    "# ..."
   ]
  },
  {
   "cell_type": "markdown",
   "metadata": {},
   "source": [
    "Le modèle linéaire est le meilleur modèle dans notre cas puisque les données ont été construites de la sorte. Il est attendu que le $R^2$ ne soit pas (significativement) plus élevé."
   ]
  },
  {
   "cell_type": "markdown",
   "metadata": {},
   "source": [
    "<span style=\"color:blue\">\n",
    "\n",
    "**Calibrer le modèle sur les features polynomiales.**\n",
    "    \n",
    "</span>\n"
   ]
  },
  {
   "cell_type": "code",
   "execution_count": null,
   "metadata": {},
   "outputs": [],
   "source": [
    "# rf2 =  ..."
   ]
  },
  {
   "cell_type": "markdown",
   "metadata": {},
   "source": [
    "## 6. Avec des nouvelles données\n",
    "<br>\n",
    "<span style=\"color:blue\">\n",
    "\n",
    "**Comparer les deux modèles sur les données suivantes. Que remarquez-vous ? Expliquez pourquoi ?**\n",
    "    \n",
    "</span>\n"
   ]
  },
  {
   "cell_type": "code",
   "execution_count": null,
   "metadata": {},
   "outputs": [],
   "source": [
    "# ..."
   ]
  },
  {
   "cell_type": "code",
   "execution_count": null,
   "metadata": {},
   "outputs": [],
   "source": [
    "# ..."
   ]
  },
  {
   "cell_type": "markdown",
   "metadata": {},
   "source": [
    "Le seul modèle qui performe est la régression linéaire avec les features polynômiales. Comme il équivaut au modèle théorique, il est normal qu'il s'en approche, même si ses coefficients ne sont pas identiques au modèle théorique (il faudrait plus de données pour que cela converge)."
   ]
  },
  {
   "cell_type": "markdown",
   "metadata": {},
   "source": [
    "## 6. Graphiques\n",
    "\n",
    "Le nuage de points du premier et second jeu, les prédictions des deux modèles, une légende, un titre... avec [pandas](https://pandas.pydata.org/) ou directement avec [matplotlib](https://matplotlib.org/) au choix."
   ]
  },
  {
   "cell_type": "code",
   "execution_count": null,
   "metadata": {},
   "outputs": [],
   "source": [
    "import matplotlib.pyplot as plt\n",
    "from matplotlib import cm\n",
    "\n",
    "# ..."
   ]
  },
  {
   "cell_type": "markdown",
   "metadata": {},
   "source": [
    "<span style=\"color:blue\">\n",
    "\n",
    "**Tracer $Y$ pour $X_2$ fixé, puis $Y$ pour $X_1$ fixé**\n",
    "    \n",
    "</span>\n"
   ]
  },
  {
   "cell_type": "code",
   "execution_count": null,
   "metadata": {},
   "outputs": [],
   "source": [
    "import matplotlib.pyplot as plt\n",
    "fig, ax = plt.subplots(1, 2, figsize=(14, 4))\n",
    "\n",
    "a, b = 0.9, 1.1\n",
    "index1 = (X_test2[:, 0] >= a) & (X_test2[:, 0] <= b)\n",
    "index2 = (X_test2[:, 1] >= a) & (X_test2[:, 1] <= b)\n",
    "# ..."
   ]
  },
  {
   "cell_type": "markdown",
   "metadata": {},
   "source": [
    "<span style=\"color:blue\">\n",
    "\n",
    "**Pour chaque modèle, tracer les prédictions sur le jeu X_test2 et ajouter une légende avec le nom de chaque modèle utilisé**\n",
    "    \n",
    "</span>\n"
   ]
  },
  {
   "cell_type": "code",
   "execution_count": null,
   "metadata": {},
   "outputs": [],
   "source": [
    "# ..."
   ]
  },
  {
   "cell_type": "markdown",
   "metadata": {},
   "source": [
    "Le graphe étudie les variables des modèles selon une coordonnées tout en restreignant l'autre dans un intervalle donné. On voit tout de suite que la forêt aléatoire devient constante au delà d'un certain seuil. C'est encore une fois tout à fait normal puisque la base d'apprentissage ne contient des $X_1, X_2$ que dans l'intervalle $[0, 1]$. En dehors, chaque arbre de décision produit une valeur constante tout simplement parce que ce sont des fonctions en escalier : une forêt aléatoire est une moyenne de fonctions en escalier, elle est bornée. Quant à la première régression linéaire, elle ne peut saisir les effets du second degré, elle est linéaire par rapport aux variables de départ. Elle s'écarte moins mais elle s'écarte quand même de la variable à prédire.\n",
    "\n",
    "Cet exercice a pour but d'illustrer qu'un modèle de machine learning est estimé sur un jeu de données qui suit une certaine distribution. Lorsque les données sur lesquelles le modèle est utilisé pour prédire ne suivent plus cette loi, les modèles retournent des réponses qui ont toutes les chances d'être fausses et ce, de manière différente selon les modèles.\n",
    "\n",
    "C'est pour cela qu'on dit qu'il faut réapprendre régulièrement les modèles de machine learning, surtout s'ils sont appliqués sur des données générées par l'activité humaine et non des données issues de problèmes physiques."
   ]
  },
  {
   "cell_type": "markdown",
   "metadata": {},
   "source": [
    "## 7. Overfitting\n",
    "\n",
    "<br>\n",
    "\n",
    "<span style=\"color:blue\">\n",
    "\n",
    "**Illuster le surapprentissage sur le jeu de données ```X_train``` en faisant varier la profondeur d'un arbre de décision**\n",
    "    \n",
    "</span>"
   ]
  },
  {
   "cell_type": "code",
   "execution_count": null,
   "metadata": {},
   "outputs": [],
   "source": [
    "from sklearn.tree import DecisionTreeRegressor\n",
    "\n",
    "# ..."
   ]
  },
  {
   "cell_type": "code",
   "execution_count": null,
   "metadata": {},
   "outputs": [],
   "source": [
    "# ..."
   ]
  },
  {
   "cell_type": "markdown",
   "metadata": {},
   "source": [
    "## 8. Augmentation du nombre de features\n",
    "\n",
    "<br>\n",
    "\n",
    "\n",
    "<span style=\"color:blue\">\n",
    "\n",
    "**Observer l'impact de la régularisation des coefficients d'une régression logistique lorsque le nombre de features augmente.**\n",
    "    \n",
    "</span>\n"
   ]
  },
  {
   "cell_type": "code",
   "execution_count": null,
   "metadata": {},
   "outputs": [],
   "source": [
    "from sklearn.linear_model import Ridge, Lasso\n",
    "import numpy.linalg as nplin\n",
    "import numpy\n",
    "\n",
    "def coef_non_nuls(coef):\n",
    "    return sum(numpy.abs(coef) > 0.001)\n",
    "\n",
    "# ..."
   ]
  },
  {
   "cell_type": "code",
   "execution_count": null,
   "metadata": {},
   "outputs": [],
   "source": [
    "fig, ax = plt.subplots(1, 2, figsize=(12, 4))\n",
    "# ..."
   ]
  },
  {
   "cell_type": "markdown",
   "metadata": {},
   "source": [
    "Numériquement, la régression linéaire devient difficile à estimer lorsque le nombre de features augmente. Théoriquement, il ne devrait pas y avoir de baisse de performances mais le graphe montre des erreurs évidentes. Cela se traduit par une norme des coefficients qui explose. La régularisation parvient à contraindre les modèles. \n",
    "\n",
    "La régression *Ridge* produira beaucoup de petits coefficients non nuls, la régression *Lasso* préfèrera concentrer la norme sur quelques coefficients seulement. Cette observation n'est vraie que dans le cas d'une régression linéaire avec une erreur quadratique."
   ]
  }
 ],
 "metadata": {
  "hide_input": false,
  "kernelspec": {
   "display_name": ".env",
   "language": "python",
   "name": ".env"
  },
  "language_info": {
   "codemirror_mode": {
    "name": "ipython",
    "version": 3
   },
   "file_extension": ".py",
   "mimetype": "text/x-python",
   "name": "python",
   "nbconvert_exporter": "python",
   "pygments_lexer": "ipython3",
   "version": "3.8.3"
  },
  "toc": {
   "nav_menu": {},
   "number_sections": true,
   "sideBar": true,
   "skip_h1_title": false,
   "toc_cell": false,
   "toc_position": {},
   "toc_section_display": "block",
   "toc_window_display": false
  }
 },
 "nbformat": 4,
 "nbformat_minor": 2
}
