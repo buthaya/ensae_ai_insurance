{
 "cells": [
  {
   "cell_type": "markdown",
   "metadata": {},
   "source": [
    "# Reminder of what you already know but might have forgotten\n",
    "**Source:** Xavier Dupre, Anne Muller\n",
    "\n",
    "[pandas](http://pandas.pydata.org/) and [numpy](http://www.numpy.org/) are essential for data manipulation. This is what this notebook reminds you of."
   ]
  },
  {
   "cell_type": "markdown",
   "metadata": {},
   "source": [
    "## Some Python Rules\n",
    "\n",
    "Python is a bit sensitive and formal; there are a few rules to follow:\n",
    "\n",
    "1) **Indentation is crucial:** Improperly indented code won't work. Indentation tells the interpreter where the separations between blocks of instructions are. It's a bit like periods in a text. If the lines are not properly aligned, the interpreter doesn't know which block to associate the line with.\n",
    "\n",
    "2) **Counting starts at 0:** It might seem strange, but that's how it is. The first element of a list is the 0-th.\n",
    "\n",
    "3) **Punctuation marks matter:**\n",
    "   - For a list: []\n",
    "   - For a dictionary: {}\n",
    "   - For a tuple: ()\n",
    "   - To separate elements: ,\n",
    "   - To comment a piece of code: #\n",
    "   - To go to the next line in a block of instructions: \\\n",
    "   - Uppercase and lowercase are important.\n",
    "   - However, the use of ' or \" is indifferent. You just need to have the same start and end.\n",
    "   - To document a function or a class: \"\"\" documentation \"\"\"\n"
   ]
  },
  {
   "cell_type": "markdown",
   "metadata": {},
   "source": [
    "## Python Outputs: Operation, Print, and Return\n",
    "\n",
    "When Python performs operations, you need to specify what it should do with them:\n",
    "- Should it just execute the operation,\n",
    "- Display the result of the operation,\n",
    "- Create an object with the result of the operation?\n",
    "\n",
    "**Note:** In the Notebook environment, the last element of a cell is automatically displayed (print), whether you explicitly request it or not. This is not the case in a traditional editor like Spyder."
   ]
  },
  {
   "cell_type": "code",
   "execution_count": 1,
   "metadata": {},
   "outputs": [
    {
     "name": "stdout",
     "output_type": "stream",
     "text": [
      "5\n"
     ]
    }
   ],
   "source": [
    "# Calculation: In the case of an operation, for example, addition\n",
    "2+3 # Python calculates the result but does not display anything in the output\n",
    "\n",
    "# Print: Displaying the result\n",
    "\n",
    "print(2+3) # Python calculates, and we explicitly ask it to display the result\n",
    "# The result is below the code"
   ]
  },
  {
   "cell_type": "code",
   "execution_count": 3,
   "metadata": {},
   "outputs": [
    {
     "name": "stdout",
     "output_type": "stream",
     "text": [
      "2\n",
      "<class 'NoneType'>\n"
     ]
    }
   ],
   "source": [
    "# Print in a Function\n",
    "\n",
    "def addition_v1(a, b):\n",
    "    print(a + b)\n",
    "\n",
    "result_print = addition_v1(2, 0)\n",
    "print(type(result_print))\n",
    "\n",
    "\n",
    "# In the output, we have the display of the result because the function's output is a print.\n",
    "# Additionally, we ask for the type of the result. A print statement does not return a type;\n",
    "# it is neither a numeric value nor a string. The result of a print is not a usable format."
   ]
  },
  {
   "cell_type": "markdown",
   "metadata": {},
   "source": [
    "The result of the addition is displayed.\n",
    "\n",
    "The function addition_v1 performs a print.\n",
    "\n",
    "However, the created object has no type; it is not a number, just a display.\n",
    "\n",
    "To create an object with the result of the function, you need to use the **return** statement."
   ]
  },
  {
   "cell_type": "code",
   "execution_count": 4,
   "metadata": {},
   "outputs": [
    {
     "name": "stdout",
     "output_type": "stream",
     "text": [
      "<class 'int'>\n"
     ]
    }
   ],
   "source": [
    "# Return in a Function\n",
    "\n",
    "def addition_v2(a, b):\n",
    "    return a + b\n",
    "\n",
    "result_return = addition_v2(2, 5)\n",
    "print(type(result_return))\n",
    "\n",
    "# Now, we have a result that is of type \"integer.\""
   ]
  },
  {
   "cell_type": "markdown",
   "metadata": {},
   "source": [
    "The result of addition_v2 is not displayed as in addition_v1.\n",
    "\n",
    "However, the addition_v2 function allows obtaining an object of type int, an integer."
   ]
  },
  {
   "cell_type": "markdown",
   "metadata": {},
   "source": [
    "## Basic Types: Variables, Lists, Dictionaries...\n",
    "\n",
    "Python allows manipulation of various basic types.\n",
    "\n",
    "Two types of variables are distinguished: immutable, which cannot be modified, and mutable.\n",
    "\n",
    "### Immutable Type Variables\n",
    "\n",
    "Immutable variables cannot be modified.\n",
    "\n",
    "- None: This type is a programming convention to indicate that the value is not calculated.\n",
    "- bool: A boolean.\n",
    "- int: An integer.\n",
    "- float: A real number.\n",
    "- str: A string.\n",
    "- tuple: A vector."
   ]
  },
  {
   "cell_type": "code",
   "execution_count": 5,
   "metadata": {},
   "outputs": [
    {
     "name": "stdout",
     "output_type": "stream",
     "text": [
      "3 3.3 example None (1, 2)\n"
     ]
    }
   ],
   "source": [
    "i = 3         # integer = numeric type (int)\n",
    "r = 3.3       # real = numeric type (float)\n",
    "s = \"example\" # string = str type \n",
    "n = None      # None means that the variable exists but contains nothing\n",
    "              # it is often used to signify that there is no result\n",
    "a = (1, 2)    # tuple\n",
    "\n",
    "print(i, r, s, n, a)"
   ]
  },
  {
   "cell_type": "markdown",
   "metadata": {},
   "source": [
    "If we try to change the first element of the string __s__, we will encounter some difficulty.\n",
    "\n",
    "For example, if we wanted to capitalize the first letter of \"example,\" we might want to write that the first element of the string __s__ is the uppercase \"E.\"\n",
    "\n",
    "However, Python will not allow us to do that. It tells us that objects of the \"string\" type cannot be modified."
   ]
  },
  {
   "cell_type": "code",
   "execution_count": 8,
   "metadata": {},
   "outputs": [
    {
     "ename": "TypeError",
     "evalue": "'str' object does not support item assignment",
     "output_type": "error",
     "traceback": [
      "\u001b[1;31m---------------------------------------------------------------------------\u001b[0m",
      "\u001b[1;31mTypeError\u001b[0m                                 Traceback (most recent call last)",
      "Cell \u001b[1;32mIn[8], line 1\u001b[0m\n\u001b[1;32m----> 1\u001b[0m \u001b[43ms\u001b[49m\u001b[43m[\u001b[49m\u001b[38;5;241;43m0\u001b[39;49m\u001b[43m]\u001b[49m \u001b[38;5;241m=\u001b[39m \u001b[38;5;124m\"\u001b[39m\u001b[38;5;124mE\u001b[39m\u001b[38;5;124m\"\u001b[39m  \u001b[38;5;66;03m# This will result in an error\u001b[39;00m\n",
      "\u001b[1;31mTypeError\u001b[0m: 'str' object does not support item assignment"
     ]
    }
   ],
   "source": [
    "s[0] = \"E\"  # This will result in an error"
   ]
  },
  {
   "cell_type": "markdown",
   "metadata": {},
   "source": [
    "All we can do with an immutable variable is to reassign it to another value: it cannot be modified.\n",
    "\n",
    "To convince ourselves, let's use the `id()` function, which provides an identifier for each object."
   ]
  },
  {
   "cell_type": "code",
   "execution_count": 9,
   "metadata": {},
   "outputs": [
    {
     "name": "stdout",
     "output_type": "stream",
     "text": [
      "example\n"
     ]
    },
    {
     "data": {
      "text/plain": [
       "1773670166832"
      ]
     },
     "execution_count": 9,
     "metadata": {},
     "output_type": "execute_result"
    }
   ],
   "source": [
    "print(s)\n",
    "id(s)"
   ]
  },
  {
   "cell_type": "code",
   "execution_count": 10,
   "metadata": {},
   "outputs": [
    {
     "data": {
      "text/plain": [
       "1773673193904"
      ]
     },
     "execution_count": 10,
     "metadata": {},
     "output_type": "execute_result"
    }
   ],
   "source": [
    "s = \"other_word\"\n",
    "id(s)"
   ]
  },
  {
   "cell_type": "markdown",
   "metadata": {},
   "source": [
    "We can clearly see that the identifier for __s__ has changed: it may have the same name, but it is no longer the same object."
   ]
  },
  {
   "cell_type": "markdown",
   "metadata": {},
   "source": [
    "### Mutable Type Variables: Lists and Dictionaries\n",
    "\n",
    "Fortunately, there are mutable variables such as lists and dictionaries.\n",
    "\n",
    "#### Lists - written between [ ]\n",
    "\n",
    "Lists are very useful elements, especially when you want to create loops.\n",
    "\n",
    "To access the elements of a list, you refer to their position in the list: the first is 0, the second is 1, and so on."
   ]
  },
  {
   "cell_type": "code",
   "execution_count": 11,
   "metadata": {},
   "outputs": [
    {
     "name": "stdout",
     "output_type": "stream",
     "text": [
      "The length of my list is 4\n",
      "The first element of my list is: 1\n",
      "The last element of my list is: 4\n",
      "The last element of my list is: 4\n"
     ]
    }
   ],
   "source": [
    "my_list = [1, 2, 3, 4]\n",
    "\n",
    "print(\"The length of my list is\", len(my_list))\n",
    "\n",
    "print(\"The first element of my list is:\", my_list[0])\n",
    "\n",
    "print(\"The last element of my list is:\", my_list[3])\n",
    "print(\"The last element of my list is:\", my_list[-1])"
   ]
  },
  {
   "cell_type": "markdown",
   "metadata": {},
   "source": [
    "#### Dictionaries - written between { }\n",
    "A dictionary associates another element, called a value, with a key: a number, a name, a list, another dictionary, etc.\n",
    "\n",
    "  - __Format of a dictionary: {Key: Value}__"
   ]
  },
  {
   "cell_type": "markdown",
   "metadata": {},
   "source": [
    "#### Dictionary with int values\n",
    "\n",
    "For example, we can associate a number with a name"
   ]
  },
  {
   "cell_type": "code",
   "execution_count": 12,
   "metadata": {},
   "outputs": [
    {
     "name": "stdout",
     "output_type": "stream",
     "text": [
      "{'Nicolas': 18, 'Pimprenelle': 15}\n"
     ]
    }
   ],
   "source": [
    "my_grade_dictionary = {'Nicolas': 18, 'Pimprenelle': 15}\n",
    "# A dictionary that associates a number with each name\n",
    "# 18 is associated with Nicolas\n",
    "\n",
    "print(my_grade_dictionary)"
   ]
  },
  {
   "cell_type": "markdown",
   "metadata": {},
   "source": [
    "#### Dictionary with values that are lists\n",
    "\n",
    "For each key in a dictionary, you don't necessarily have to keep the same value format.\n",
    "\n",
    "In the example, the value for the key \"Nicolas\" is a list, while the value for \"Philou\" is a list of lists"
   ]
  },
  {
   "cell_type": "code",
   "execution_count": 13,
   "metadata": {},
   "outputs": [],
   "source": [
    "my_hobbies_dictionary = \\\n",
    "{ 'Nicolas' : ['Rugby', 'Pastis', 'Belote'] , \n",
    "  'Pimprenelle' : ['Gin Rami', 'Herbal Tea', 'Tara Jarmon', 'Barcelona', 'Mickey Mouse'],\n",
    "  'Philou' : [['Maths', 'Games'], ['Guillaume', 'Jeanne', 'Thimothée', 'Adrien']]}"
   ]
  },
  {
   "cell_type": "markdown",
   "metadata": {},
   "source": [
    "To access an element in the dictionary, you use the key rather than the position, as was the case with lists."
   ]
  },
  {
   "cell_type": "code",
   "execution_count": 14,
   "metadata": {},
   "outputs": [
    {
     "name": "stdout",
     "output_type": "stream",
     "text": [
      "['Rugby', 'Pastis', 'Belote']\n"
     ]
    }
   ],
   "source": [
    "print(my_hobbies_dictionary['Nicolas']) # it outputs a list"
   ]
  },
  {
   "cell_type": "code",
   "execution_count": 15,
   "metadata": {},
   "outputs": [
    {
     "name": "stdout",
     "output_type": "stream",
     "text": [
      "[['Maths', 'Games'], ['Guillaume', 'Jeanne', 'Thimothée', 'Adrien']]\n"
     ]
    }
   ],
   "source": [
    "print(my_hobbies_dictionary['Philou']) # it outputs a list of list"
   ]
  },
  {
   "cell_type": "markdown",
   "metadata": {},
   "source": [
    "If we only want to have the first list of Philou's hobbies, we request the first element of the list."
   ]
  },
  {
   "cell_type": "code",
   "execution_count": 16,
   "metadata": {},
   "outputs": [
    {
     "name": "stdout",
     "output_type": "stream",
     "text": [
      "['Maths', 'Games']\n"
     ]
    }
   ],
   "source": [
    "print(my_hobbies_dictionary['Philou'][0]) # it outputs the first element of a list"
   ]
  },
  {
   "cell_type": "markdown",
   "metadata": {},
   "source": [
    "We can also have values that are integers and lists."
   ]
  },
  {
   "cell_type": "code",
   "execution_count": 17,
   "metadata": {},
   "outputs": [],
   "source": [
    "mon_dictionnaire_patchwork_good = \\\n",
    "{ 'Nicolas' : ['Rugby','Pastis','Belote'] ,\n",
    "  'Pimprenelle' : 18 }"
   ]
  },
  {
   "cell_type": "markdown",
   "metadata": {},
   "source": [
    "## Key Points\n",
    "\n",
    "- Code indentation is important (4 spaces and not a tab).\n",
    "- A __list__ is written between [] and we can refer to positions by their index.\n",
    "- A __dictionary__, key x value, is written between {} and we access an element based on the key."
   ]
  },
  {
   "cell_type": "markdown",
   "metadata": {},
   "source": [
    "## Practical Questions:\n",
    "\n",
    "- What is the position of 7 in the following list?"
   ]
  },
  {
   "cell_type": "code",
   "execution_count": 18,
   "metadata": {},
   "outputs": [],
   "source": [
    "list_of_numbers = [1,2,7,5,3]"
   ]
  },
  {
   "cell_type": "markdown",
   "metadata": {},
   "source": [
    "- How many keys does this dictionary have?"
   ]
  },
  {
   "cell_type": "code",
   "execution_count": 19,
   "metadata": {},
   "outputs": [],
   "source": [
    "gospel_dictionary = {\"Marc\": \"Lion\", \"Matthieu\": [\"Angel\", \"Winged Man\"], \n",
    "                     \"Jean\": \"Eagle\", \"Luc\": \"Bull\"}"
   ]
  },
  {
   "cell_type": "markdown",
   "metadata": {},
   "source": [
    "- What should be written to obtain \"Angel\" as a result from the gospel_dictionary?"
   ]
  },
  {
   "cell_type": "code",
   "execution_count": 20,
   "metadata": {},
   "outputs": [
    {
     "data": {
      "text/plain": [
       "'Angel'"
      ]
     },
     "execution_count": 20,
     "metadata": {},
     "output_type": "execute_result"
    }
   ],
   "source": [
    "gospel_dictionary[\"Matthieu\"][0]"
   ]
  },
  {
   "cell_type": "markdown",
   "metadata": {},
   "source": [
    "# Objects: Methods and Attributes\n",
    "\n",
    "Now that we have seen which objects exist in Python, let's see how to use them."
   ]
  },
  {
   "cell_type": "markdown",
   "metadata": {},
   "source": [
    "### A brief detour to understand well: What is an object?\n",
    "\n",
    "An object has two things: attributes and methods.\n",
    "\n",
    "   - **Attributes** describe its internal structure: its size, shape (which we won't discuss here).\n",
    "   - **Methods** are \"actions\" that will apply to the object. "
   ]
  },
  {
   "cell_type": "markdown",
   "metadata": {},
   "source": [
    "### First examples of methods\n",
    "\n",
    "With the elements defined in part 1 (lists, dictionaries), we can use methods that are directly related to these objects.\n",
    "\n",
    "Methods are a bit like Python's actions. "
   ]
  },
  {
   "cell_type": "markdown",
   "metadata": {},
   "source": [
    "#### A method for lists\n",
    "\n",
    "To add an item to a list: we will use the `.append()` method."
   ]
  },
  {
   "cell_type": "code",
   "execution_count": 21,
   "metadata": {},
   "outputs": [
    {
     "name": "stdout",
     "output_type": "stream",
     "text": [
      "['Nicolas', 'Michel', 'Bernard', 'Philippe']\n"
     ]
    }
   ],
   "source": [
    "my_list = [\"Nicolas\",\"Michel\",\"Bernard\"]\n",
    "\n",
    "my_list.append(\"Philippe\")\n",
    "\n",
    "print(my_list)"
   ]
  },
  {
   "cell_type": "markdown",
   "metadata": {},
   "source": [
    "#### A method for dictionaries\n",
    "\n",
    "To get all the keys of a dictionary, we use the `.keys()` method."
   ]
  },
  {
   "cell_type": "code",
   "execution_count": 22,
   "metadata": {},
   "outputs": [
    {
     "name": "stdout",
     "output_type": "stream",
     "text": [
      "dict_keys(['Marc', 'Matthieu', 'Jean', 'Luc'])\n"
     ]
    }
   ],
   "source": [
    "my_dict = {\n",
    "    \"Marc\" : \"Lion\", \"Matthieu\" : [\"Ange\",\"Homme ailé\"],\n",
    "    \"Jean\" : \"Aigle\" , \"Luc\" : \"Taureau\"}\n",
    "\n",
    "print(my_dict.keys())"
   ]
  },
  {
   "cell_type": "markdown",
   "metadata": {},
   "source": [
    "### Knowing the methods of an object\n",
    "\n",
    "To find out which methods are available for an object, you can:\n",
    "  - Type help(my_object) or my_object? in the iPython console.\n",
    "  - Type my_object. + tab key in the iPython console or in the notebook. iPython supports autocompletion, meaning you can bring up the list."
   ]
  },
  {
   "cell_type": "markdown",
   "metadata": {},
   "source": [
    "## Key Takeaways and Questions\n",
    "\n",
    "Key Takeaways:\n",
    "\n",
    "- Every Python object has attributes and methods.\n",
    "- You can create classes with attributes and methods.\n",
    "- The methods of lists and dictionaries are the most commonly used:\n",
    "  - `list.count()`\n",
    "  - `list.sort()`\n",
    "  - `list.append()`\n",
    "  - `dict.keys()`\n",
    "  - `dict.items()`\n",
    "  - `dict.values()`\n",
    "\n",
    "------"
   ]
  },
  {
   "cell_type": "markdown",
   "metadata": {},
   "source": [
    "## Practical Questions:\n",
    "\n",
    "- Define the list from 1 to 10 and then perform the following actions:\n",
    "    - Sort and display the list\n",
    "    - Add element 11 to the list and display the list\n",
    "    - Reverse and display the list\n",
    "    - Display the index of element 7\n",
    "    - Remove element 9 and display the list\n",
    "    - Display the sublist from the 2nd to the 3rd element\n",
    "    - Display the sublist from the start to the 2nd element\n",
    "    - Display the sublist from the 3rd element to the end of the list\n"
   ]
  },
  {
   "cell_type": "markdown",
   "metadata": {},
   "source": [
    "- Build the dictionary of the first 6 months of the year with the respective number of days as values.\n",
    "\n",
    "    - Return the list of months.\n",
    "    - Return the list of days.\n",
    "    - Add the key for the month of July."
   ]
  }
 ],
 "metadata": {
  "anaconda-cloud": {},
  "hide_input": false,
  "kernelspec": {
   "display_name": ".env",
   "language": "python",
   "name": ".env"
  },
  "language_info": {
   "codemirror_mode": {
    "name": "ipython",
    "version": 3
   },
   "file_extension": ".py",
   "mimetype": "text/x-python",
   "name": "python",
   "nbconvert_exporter": "python",
   "pygments_lexer": "ipython3",
   "version": "3.8.3"
  },
  "toc": {
   "nav_menu": {},
   "number_sections": true,
   "sideBar": true,
   "skip_h1_title": false,
   "toc_cell": false,
   "toc_position": {},
   "toc_section_display": "block",
   "toc_window_display": false
  }
 },
 "nbformat": 4,
 "nbformat_minor": 1
}
